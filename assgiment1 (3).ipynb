{
 "cells": [
  {
   "cell_type": "markdown",
   "id": "5e0dfb2c-1a6f-4914-8752-d88514fe668b",
   "metadata": {},
   "source": [
    "q.1"
   ]
  },
  {
   "cell_type": "code",
   "execution_count": 1,
   "id": "99e43a0d-759b-4c55-bea4-35c89760f701",
   "metadata": {},
   "outputs": [],
   "source": [
    "x=5"
   ]
  },
  {
   "cell_type": "code",
   "execution_count": 2,
   "id": "414ebca1-103c-4271-a8d4-468a8e62af54",
   "metadata": {},
   "outputs": [],
   "source": [
    "y=10"
   ]
  },
  {
   "cell_type": "code",
   "execution_count": 3,
   "id": "ed2ece04-508b-47e0-88d8-6100f388ba41",
   "metadata": {},
   "outputs": [],
   "source": [
    "x=x+y"
   ]
  },
  {
   "cell_type": "code",
   "execution_count": 4,
   "id": "6544e7de-de02-4825-91c2-e645da0d4bbc",
   "metadata": {},
   "outputs": [
    {
     "name": "stdout",
     "output_type": "stream",
     "text": [
      "after swapping:\n"
     ]
    }
   ],
   "source": [
    "print(\"after swapping:\")"
   ]
  },
  {
   "cell_type": "code",
   "execution_count": 5,
   "id": "e6bcc414-e632-40dc-be25-64b91be16251",
   "metadata": {},
   "outputs": [
    {
     "name": "stdout",
     "output_type": "stream",
     "text": [
      "x= 15\n"
     ]
    }
   ],
   "source": [
    "print(\"x=\",x)"
   ]
  },
  {
   "cell_type": "code",
   "execution_count": 6,
   "id": "4d56f0ec-9c71-478c-b81b-178d0623b8a1",
   "metadata": {},
   "outputs": [
    {
     "name": "stdout",
     "output_type": "stream",
     "text": [
      "y= 10\n"
     ]
    }
   ],
   "source": [
    "print(\"y=\",y)"
   ]
  },
  {
   "cell_type": "markdown",
   "id": "f5d35006-95f6-4269-b3da-01c55c343157",
   "metadata": {},
   "source": [
    "q.2"
   ]
  },
  {
   "cell_type": "code",
   "execution_count": 7,
   "id": "9078bd44-3379-4b1d-8591-c1bf290594dd",
   "metadata": {},
   "outputs": [],
   "source": [
    "#Takig input for length and width"
   ]
  },
  {
   "cell_type": "code",
   "execution_count": 9,
   "id": "2933c7db-eed8-47e4-a753-17bfd3c246ab",
   "metadata": {},
   "outputs": [
    {
     "name": "stdin",
     "output_type": "stream",
     "text": [
      "Enter the length of the rectangle: 10\n"
     ]
    }
   ],
   "source": [
    "length=float(input(\"Enter the length of the rectangle:\"))"
   ]
  },
  {
   "cell_type": "code",
   "execution_count": 10,
   "id": "957c5d73-3e3c-4ef8-888a-bd2062d071a8",
   "metadata": {},
   "outputs": [
    {
     "name": "stdin",
     "output_type": "stream",
     "text": [
      "Enter the width of rectangle: 20\n"
     ]
    }
   ],
   "source": [
    "width= float(input(\"Enter the width of rectangle:\" ))"
   ]
  },
  {
   "cell_type": "code",
   "execution_count": 12,
   "id": "2dee1a01-5eee-49fd-8e92-95e8544822b7",
   "metadata": {},
   "outputs": [],
   "source": [
    "# Calculating the area"
   ]
  },
  {
   "cell_type": "code",
   "execution_count": 13,
   "id": "6a9d4aa1-0f2b-4dd0-abc5-3ea1fd54eaaf",
   "metadata": {},
   "outputs": [],
   "source": [
    "area=length*width"
   ]
  },
  {
   "cell_type": "code",
   "execution_count": 14,
   "id": "028eb811-b00c-420c-988f-63e54bda75b4",
   "metadata": {},
   "outputs": [],
   "source": [
    "# Displaying the result"
   ]
  },
  {
   "cell_type": "code",
   "execution_count": 15,
   "id": "8ae0601d-184e-4d7a-ba61-68d73e5b734a",
   "metadata": {},
   "outputs": [
    {
     "name": "stdout",
     "output_type": "stream",
     "text": [
      " The area of the rectangle is: 200.0\n"
     ]
    }
   ],
   "source": [
    "print(\" The area of the rectangle is:\",area)"
   ]
  },
  {
   "cell_type": "markdown",
   "id": "af6cbbe0-3f23-4ce3-a765-8b8158b5b5ec",
   "metadata": {},
   "source": [
    "q.3"
   ]
  },
  {
   "cell_type": "code",
   "execution_count": 16,
   "id": "cfe57b73-5136-40fc-83d3-746661e35dc8",
   "metadata": {},
   "outputs": [],
   "source": [
    "# Taking input for temperature in Celsius"
   ]
  },
  {
   "cell_type": "code",
   "execution_count": 19,
   "id": "0de9c4d6-d9ec-496f-b38b-ece8625cac80",
   "metadata": {},
   "outputs": [
    {
     "name": "stdin",
     "output_type": "stream",
     "text": [
      "Enter temperature in Celsius: 56\n"
     ]
    }
   ],
   "source": [
    "celsius=float(input(\"Enter temperature in Celsius:\"))"
   ]
  },
  {
   "cell_type": "code",
   "execution_count": 20,
   "id": "4c481632-4569-49bf-b4d9-24c73faa29d0",
   "metadata": {},
   "outputs": [],
   "source": [
    "# Converting Celsius to fahrenheit"
   ]
  },
  {
   "cell_type": "code",
   "execution_count": 21,
   "id": "efc33a4e-dfe3-468f-bea4-8c2e82b9c32c",
   "metadata": {},
   "outputs": [],
   "source": [
    "fahrenheit=(celsius *9/5)+32"
   ]
  },
  {
   "cell_type": "code",
   "execution_count": 22,
   "id": "53b5670b-cc05-4b4b-9ef4-8cd966eb2ed0",
   "metadata": {},
   "outputs": [],
   "source": [
    "# Displaying the converted temperature"
   ]
  },
  {
   "cell_type": "code",
   "execution_count": 23,
   "id": "c42fc69f-2f9b-47e9-873d-8423a3001c87",
   "metadata": {},
   "outputs": [
    {
     "name": "stdout",
     "output_type": "stream",
     "text": [
      "Temperature in Fahrenheit: 132.8\n"
     ]
    }
   ],
   "source": [
    "print(\"Temperature in Fahrenheit:\",fahrenheit)"
   ]
  },
  {
   "cell_type": "markdown",
   "id": "3464e48b-a4d2-4f5c-8612-60cb7a7ee075",
   "metadata": {},
   "source": [
    "Topic: String Based Questions"
   ]
  },
  {
   "cell_type": "markdown",
   "id": "15b3e18a-ef59-4f14-b2bf-7c714e03a76e",
   "metadata": {},
   "source": [
    "q.1"
   ]
  },
  {
   "cell_type": "code",
   "execution_count": 24,
   "id": "cfcf3872-6630-4c6d-ab83-f298f7d031df",
   "metadata": {},
   "outputs": [],
   "source": [
    "# Taking input from the user"
   ]
  },
  {
   "cell_type": "code",
   "execution_count": 25,
   "id": "24263d76-459a-428a-9fb0-b30429f14a54",
   "metadata": {},
   "outputs": [
    {
     "name": "stdin",
     "output_type": "stream",
     "text": [
      "Enter a string: mohit\n"
     ]
    }
   ],
   "source": [
    "input_string=input(\"Enter a string:\")"
   ]
  },
  {
   "cell_type": "code",
   "execution_count": 26,
   "id": "807c7efe-bf26-44b6-b406-0d7812b41cdd",
   "metadata": {},
   "outputs": [],
   "source": [
    "# Calculating the length of the string"
   ]
  },
  {
   "cell_type": "code",
   "execution_count": 27,
   "id": "99ab0896-3a5c-4416-9113-7b53cf9fef7f",
   "metadata": {},
   "outputs": [],
   "source": [
    "length = len(input_string)"
   ]
  },
  {
   "cell_type": "code",
   "execution_count": 28,
   "id": "eec4db58-4be2-4272-bc88-4ff39b6ba1bd",
   "metadata": {},
   "outputs": [],
   "source": [
    "#Displaying the length of the string"
   ]
  },
  {
   "cell_type": "code",
   "execution_count": 29,
   "id": "59d62577-03cf-4144-aebe-7c5441c01de7",
   "metadata": {},
   "outputs": [
    {
     "name": "stdout",
     "output_type": "stream",
     "text": [
      " Length of the string: 5\n"
     ]
    }
   ],
   "source": [
    "print(\" Length of the string:\", length)"
   ]
  },
  {
   "cell_type": "markdown",
   "id": "26edd0ba-bebc-4bd5-a4e1-56c2ad084f92",
   "metadata": {},
   "source": [
    "\n",
    "q.2"
   ]
  },
  {
   "cell_type": "code",
   "execution_count": 42,
   "id": "b63f5684-492d-4cde-b009-95933c41027d",
   "metadata": {},
   "outputs": [
    {
     "name": "stdin",
     "output_type": "stream",
     "text": [
      "Enter a sentence:  mohit\n"
     ]
    },
    {
     "name": "stdout",
     "output_type": "stream",
     "text": [
      "Number of vowels: 2\n"
     ]
    }
   ],
   "source": [
    "def count_vowels(sentence):\n",
    "    vowels = 'aeiouAEIOU'\n",
    "    vowel_count = 0\n",
    "    \n",
    "    for char in sentence:\n",
    "        if char in vowels:\n",
    "            vowel_count += 1\n",
    "            \n",
    "    return vowel_count\n",
    "\n",
    "user_input = input(\"Enter a sentence: \")\n",
    "result = count_vowels(user_input)\n",
    "print(\"Number of vowels:\", result)\n",
    "\n"
   ]
  },
  {
   "cell_type": "markdown",
   "id": "e54e3be3-f5ac-4e01-b714-36d14dab5d1a",
   "metadata": {},
   "source": [
    "q.3"
   ]
  },
  {
   "cell_type": "code",
   "execution_count": 43,
   "id": "de53b676-cb66-4acb-b009-0150dfb80de3",
   "metadata": {},
   "outputs": [
    {
     "name": "stdin",
     "output_type": "stream",
     "text": [
      "Enter a string:  mohit\n"
     ]
    }
   ],
   "source": [
    "input_string = input(\"Enter a string: \")"
   ]
  },
  {
   "cell_type": "code",
   "execution_count": 44,
   "id": "f9be944a-22f1-4d41-9deb-6c2da3988401",
   "metadata": {},
   "outputs": [],
   "source": [
    "#Taking input from the user"
   ]
  },
  {
   "cell_type": "code",
   "execution_count": 45,
   "id": "2d3f6057-8918-4b07-bae7-a05469ab4cb8",
   "metadata": {},
   "outputs": [],
   "source": [
    "# Reversing the string using string slicing"
   ]
  },
  {
   "cell_type": "code",
   "execution_count": 46,
   "id": "ba161000-6d20-4f36-963f-d0945fe87153",
   "metadata": {},
   "outputs": [],
   "source": [
    "reversed_string = input_string[::-1]"
   ]
  },
  {
   "cell_type": "code",
   "execution_count": 47,
   "id": "3abe00c3-2ace-461d-ba2a-09dd8c27e308",
   "metadata": {},
   "outputs": [],
   "source": [
    "#Displaying the reversed string"
   ]
  },
  {
   "cell_type": "code",
   "execution_count": 48,
   "id": "58ee6a4f-8c19-4e6b-86db-4b3046d3c9a6",
   "metadata": {},
   "outputs": [
    {
     "name": "stdout",
     "output_type": "stream",
     "text": [
      "Reversed string: tihom\n"
     ]
    }
   ],
   "source": [
    "print(\"Reversed string:\", reversed_string)"
   ]
  },
  {
   "cell_type": "markdown",
   "id": "364fe62b-3fa5-43af-9a44-aedd710ae70b",
   "metadata": {},
   "source": [
    "q.4"
   ]
  },
  {
   "cell_type": "code",
   "execution_count": 60,
   "id": "2dbe9816-66a0-4622-8c1a-76ac07b2b54b",
   "metadata": {},
   "outputs": [
    {
     "name": "stdin",
     "output_type": "stream",
     "text": [
      "Enter a string:  mohitmaheshwari\n"
     ]
    },
    {
     "name": "stdout",
     "output_type": "stream",
     "text": [
      "The string is not a palindrome.\n"
     ]
    }
   ],
   "source": [
    "def is_palindrome(s):\n",
    "    s = s.lower()  # Convert the string to lowercase for case-insensitive comparison\n",
    "    s = ''.join(filter(str.isalnum, s))  # Remove non-alphanumeric characters\n",
    "    \n",
    "    return s == s[::-1]\n",
    "\n",
    "user_input = input(\"Enter a string: \")\n",
    "if is_palindrome(user_input):\n",
    "    print(\"The string is a palindrome.\")\n",
    "else:\n",
    "    print(\"The string is not a palindrome.\")\n",
    "\n",
    "    "
   ]
  },
  {
   "cell_type": "markdown",
   "id": "28de7456-e1b7-4862-8b2a-583e08f205f9",
   "metadata": {},
   "source": [
    "q.5"
   ]
  },
  {
   "cell_type": "code",
   "execution_count": 61,
   "id": "d90695ab-7c8a-4092-97ff-dcbc601f52d0",
   "metadata": {},
   "outputs": [],
   "source": [
    "#Taking input from the user"
   ]
  },
  {
   "cell_type": "code",
   "execution_count": 62,
   "id": "07ba3100-bcd1-4a42-9cc6-1cedf496c9c6",
   "metadata": {},
   "outputs": [
    {
     "name": "stdin",
     "output_type": "stream",
     "text": [
      "Enter a string:  mohit\n"
     ]
    }
   ],
   "source": [
    "input_string = input(\"Enter a string: \")"
   ]
  },
  {
   "cell_type": "code",
   "execution_count": 63,
   "id": "d8fa6bb2-65ae-4020-8147-1888da00badc",
   "metadata": {},
   "outputs": [],
   "source": [
    "#Removing spaces from the string"
   ]
  },
  {
   "cell_type": "code",
   "execution_count": 64,
   "id": "429ff4ab-0133-476c-a881-c57fb1d2a723",
   "metadata": {},
   "outputs": [],
   "source": [
    "modified_string = input_string.replace(\" \", \"\")"
   ]
  },
  {
   "cell_type": "code",
   "execution_count": 65,
   "id": "1bca16e9-5ea6-4be0-84f0-548868c20a52",
   "metadata": {},
   "outputs": [],
   "source": [
    "#Displaying the modified string without spaces"
   ]
  },
  {
   "cell_type": "code",
   "execution_count": 66,
   "id": "6f573fdb-02f3-473c-befe-7331860c783b",
   "metadata": {},
   "outputs": [
    {
     "name": "stdout",
     "output_type": "stream",
     "text": [
      "Modified string without spaces: mohit\n"
     ]
    }
   ],
   "source": [
    "print(\"Modified string without spaces:\", modified_string)"
   ]
  },
  {
   "cell_type": "code",
   "execution_count": null,
   "id": "a053c44c-338f-4add-8111-fb8d1b5ea972",
   "metadata": {},
   "outputs": [],
   "source": []
  },
  {
   "cell_type": "code",
   "execution_count": null,
   "id": "2f9411d3-149c-4fea-85e3-209185c0f2b4",
   "metadata": {},
   "outputs": [],
   "source": []
  }
 ],
 "metadata": {
  "kernelspec": {
   "display_name": "Python 3 (ipykernel)",
   "language": "python",
   "name": "python3"
  },
  "language_info": {
   "codemirror_mode": {
    "name": "ipython",
    "version": 3
   },
   "file_extension": ".py",
   "mimetype": "text/x-python",
   "name": "python",
   "nbconvert_exporter": "python",
   "pygments_lexer": "ipython3",
   "version": "3.10.8"
  }
 },
 "nbformat": 4,
 "nbformat_minor": 5
}
